{
  "nbformat": 4,
  "nbformat_minor": 0,
  "metadata": {
    "colab": {
      "provenance": [],
      "authorship_tag": "ABX9TyOnkSwskbatcqcc05aogvXV",
      "include_colab_link": true
    },
    "kernelspec": {
      "name": "python3",
      "display_name": "Python 3"
    },
    "language_info": {
      "name": "python"
    }
  },
  "cells": [
    {
      "cell_type": "markdown",
      "metadata": {
        "id": "view-in-github",
        "colab_type": "text"
      },
      "source": [
        "<a href=\"https://colab.research.google.com/github/YeimeLeandro/Hyperblog/blob/main/Punto_1_Examen_2.ipynb\" target=\"_parent\"><img src=\"https://colab.research.google.com/assets/colab-badge.svg\" alt=\"Open In Colab\"/></a>"
      ]
    },
    {
      "cell_type": "code",
      "source": [
        "import numpy as np\n",
        "\n",
        "def generar_vector_unitario_p():\n",
        "    try:\n",
        "        # Solicitar al usuario ingresar la dimensión del vector y el valor de p\n",
        "        n = int(input(\"Ingrese la dimensión del vector (n): \"))\n",
        "        p = float(input(\"Ingrese el valor de p para la norma (p ≥ 1): \"))\n",
        "\n",
        "        # Validar que p sea mayor o igual a 1\n",
        "        if p < 1:\n",
        "            print(\"El valor de p debe ser mayor o igual a 1.\")\n",
        "            return\n",
        "\n",
        "        # Generar un vector aleatorio con componentes entre -1 y 1\n",
        "        vector = np.random.uniform(-1, 1, n)\n",
        "\n",
        "        # Calcular la norma p del vector\n",
        "        norma_p = np.linalg.norm(vector, ord=p)\n",
        "\n",
        "        # Evita la división por cero en caso de que la norma sea cero\n",
        "        while norma_p == 0:\n",
        "            vector = np.random.uniform(-1, 1, n)\n",
        "            norma_p = np.linalg.norm(vector, ord=p)\n",
        "\n",
        "        # Normalizar el vector para que su norma p sea 1\n",
        "        vector_unitario = vector / norma_p\n",
        "\n",
        "        # Mostrar el vector resultante y su norma p\n",
        "        print(\"\\nVector unitario respecto a la norma p:\")\n",
        "        print(vector_unitario)\n",
        "        print(\"Norma p del vector:\", np.linalg.norm(vector_unitario, ord=p))\n",
        "    except ValueError:\n",
        "        print(\"Entrada inválida. Por favor, ingrese números válidos.\")\n",
        "\n",
        "# Ejecutar la función\n",
        "generar_vector_unitario_p()\n"
      ],
      "metadata": {
        "colab": {
          "base_uri": "https://localhost:8080/"
        },
        "id": "tdLM5OsBc-B6",
        "outputId": "ed84d2ad-9aa1-49aa-87cc-6395568ec549"
      },
      "execution_count": 11,
      "outputs": [
        {
          "output_type": "stream",
          "name": "stdout",
          "text": [
            "Ingrese la dimensión del vector (n): 2\n",
            "Ingrese el valor de p para la norma (p ≥ 1): 2\n",
            "\n",
            "Vector unitario respecto a la norma p:\n",
            "[0.98014952 0.19825973]\n",
            "Norma p del vector: 1.0\n"
          ]
        }
      ]
    }
  ]
}